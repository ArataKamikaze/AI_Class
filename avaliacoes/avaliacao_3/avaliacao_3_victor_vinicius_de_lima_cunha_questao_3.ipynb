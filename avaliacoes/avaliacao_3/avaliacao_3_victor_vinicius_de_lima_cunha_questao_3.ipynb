{
 "cells": [
  {
   "attachments": {},
   "cell_type": "markdown",
   "metadata": {},
   "source": [
    "# Victor Vinicius de Lima Cunha - E01066"
   ]
  },
  {
   "attachments": {},
   "cell_type": "markdown",
   "metadata": {},
   "source": [
    "a) Redes neurais são um tipo de inteligência artificial que ensina computadores a processar dados de uma forma inspirada no cérebro humano. É um tipo de aprendizado profundo, que usa neurônios interconectados em uma estrutura de camadas, semelhante ao cérebro humano. \n",
    "As redes neurais criam sistemas adaptativos que os computadores usam para aprender com os erros e se aprimorar continuamente.\n",
    "Servem para solucionar problemas complicados, como resumir documentos ou reconhecer rostos com grande precisão.\n",
    "São divididas em várias camadas, porém da forma mais simples, são 3 camadas, a camada de entrada, a camada oculta e a camada de saída.\n",
    "\n",
    "b)\n",
    "* Neurônios (ou unidades): Os neurônios são os blocos fundamentais das redes neurais. Eles recebem entradas, aplicam uma função de ativação e geram uma saída.\n",
    "* Camadas: As camadas são agrupamentos de neurônios em uma rede neural. Existem diferentes tipos de camadas, como camadas de entrada (input), camadas ocultas (hidden) e camadas de saída (output).\n",
    "* Pesos: Os pesos são parâmetros ajustáveis que são atribuídos a cada conexão entre neurônios. Eles representam a força ou a importância dessa conexão e são ajustados durante o treinamento da rede neural.\n",
    "* Funções de ativação: As funções de ativação são aplicadas aos neurônios para introduzir não-linearidades nas saídas. Elas ajudam a modelar relações complexas e a capturar padrões nos dados.\n",
    "\n",
    "c) As redes neurais têm vários casos de uso em diferentes setores, como:\n",
    "*\tVisão computacional\n",
    "*\tReconhecimento de voz\n",
    "*\tProcessamento de linguagem natural\n",
    "*\tMecanismos de recomendação\n",
    "*\tDiagnóstico médico feito pela classificação de imagens\n",
    "*\tMarketing direcionado pela filtragem de mídia social e análise de dados comportamentais\n",
    "*\tPrevisões financeiras feitas pelo processamento de dados históricos de instrumentos financeiros\n",
    "*\tPrevisões de demanda de energia e carga elétrica\n",
    "*\tProcesso e controle de qualidade\n",
    "*\tIdentificação de compostos químicos"
   ]
  }
 ],
 "metadata": {
  "kernelspec": {
   "display_name": "base",
   "language": "python",
   "name": "python3"
  },
  "language_info": {
   "name": "python",
   "version": "3.9.13 (main, Aug 25 2022, 23:51:50) [MSC v.1916 64 bit (AMD64)]"
  },
  "orig_nbformat": 4,
  "vscode": {
   "interpreter": {
    "hash": "ad2bdc8ecc057115af97d19610ffacc2b4e99fae6737bb82f5d7fb13d2f2c186"
   }
  }
 },
 "nbformat": 4,
 "nbformat_minor": 2
}
